{
  "nbformat": 4,
  "nbformat_minor": 0,
  "metadata": {
    "colab": {
      "name": "BodyPix.ipynb",
      "provenance": [],
      "collapsed_sections": []
    },
    "kernelspec": {
      "name": "python3",
      "display_name": "Python 3"
    },
    "language_info": {
      "name": "python"
    }
  },
  "cells": [
    {
      "cell_type": "code",
      "metadata": {
        "colab": {
          "base_uri": "https://localhost:8080/",
          "height": 1000
        },
        "id": "ylhVshN7LDbK",
        "outputId": "faed0090-57aa-4c9a-c637-2f9e17359204"
      },
      "source": [
        "!pip install tf-bodypix[all]"
      ],
      "execution_count": null,
      "outputs": [
        {
          "output_type": "stream",
          "name": "stdout",
          "text": [
            "Collecting tf-bodypix[all]\n",
            "  Downloading tf_bodypix-0.3.7-py3-none-any.whl (38 kB)\n",
            "Collecting tfjs-graph-converter==1.4.2\n",
            "  Downloading tfjs_graph_converter-1.4.2-py3-none-any.whl (32 kB)\n",
            "Collecting opencv-python==4.5.3.56\n",
            "  Downloading opencv_python-4.5.3.56-cp37-cp37m-manylinux2014_x86_64.whl (49.9 MB)\n",
            "\u001b[K     |████████████████████████████████| 49.9 MB 31 kB/s \n",
            "\u001b[?25hCollecting Pillow==8.3.2\n",
            "  Downloading Pillow-8.3.2-cp37-cp37m-manylinux_2_17_x86_64.manylinux2014_x86_64.whl (3.0 MB)\n",
            "\u001b[K     |████████████████████████████████| 3.0 MB 64.4 MB/s \n",
            "\u001b[?25hRequirement already satisfied: tensorflow==2.6.0 in /usr/local/lib/python3.7/dist-packages (from tf-bodypix[all]) (2.6.0)\n",
            "Collecting pyfakewebcam==0.1.0\n",
            "  Downloading pyfakewebcam-0.1.0.tar.gz (12 kB)\n",
            "Requirement already satisfied: numpy>=1.14.5 in /usr/local/lib/python3.7/dist-packages (from opencv-python==4.5.3.56->tf-bodypix[all]) (1.19.5)\n",
            "Requirement already satisfied: protobuf>=3.9.2 in /usr/local/lib/python3.7/dist-packages (from tensorflow==2.6.0->tf-bodypix[all]) (3.17.3)\n",
            "Requirement already satisfied: tensorboard~=2.6 in /usr/local/lib/python3.7/dist-packages (from tensorflow==2.6.0->tf-bodypix[all]) (2.6.0)\n",
            "Requirement already satisfied: clang~=5.0 in /usr/local/lib/python3.7/dist-packages (from tensorflow==2.6.0->tf-bodypix[all]) (5.0)\n",
            "Requirement already satisfied: google-pasta~=0.2 in /usr/local/lib/python3.7/dist-packages (from tensorflow==2.6.0->tf-bodypix[all]) (0.2.0)\n",
            "Requirement already satisfied: wrapt~=1.12.1 in /usr/local/lib/python3.7/dist-packages (from tensorflow==2.6.0->tf-bodypix[all]) (1.12.1)\n",
            "Requirement already satisfied: typing-extensions~=3.7.4 in /usr/local/lib/python3.7/dist-packages (from tensorflow==2.6.0->tf-bodypix[all]) (3.7.4.3)\n",
            "Requirement already satisfied: grpcio<2.0,>=1.37.0 in /usr/local/lib/python3.7/dist-packages (from tensorflow==2.6.0->tf-bodypix[all]) (1.41.0)\n",
            "Requirement already satisfied: wheel~=0.35 in /usr/local/lib/python3.7/dist-packages (from tensorflow==2.6.0->tf-bodypix[all]) (0.37.0)\n",
            "Requirement already satisfied: astunparse~=1.6.3 in /usr/local/lib/python3.7/dist-packages (from tensorflow==2.6.0->tf-bodypix[all]) (1.6.3)\n",
            "Requirement already satisfied: tensorflow-estimator~=2.6 in /usr/local/lib/python3.7/dist-packages (from tensorflow==2.6.0->tf-bodypix[all]) (2.6.0)\n",
            "Requirement already satisfied: gast==0.4.0 in /usr/local/lib/python3.7/dist-packages (from tensorflow==2.6.0->tf-bodypix[all]) (0.4.0)\n",
            "Requirement already satisfied: absl-py~=0.10 in /usr/local/lib/python3.7/dist-packages (from tensorflow==2.6.0->tf-bodypix[all]) (0.12.0)\n",
            "Requirement already satisfied: keras-preprocessing~=1.1.2 in /usr/local/lib/python3.7/dist-packages (from tensorflow==2.6.0->tf-bodypix[all]) (1.1.2)\n",
            "Requirement already satisfied: termcolor~=1.1.0 in /usr/local/lib/python3.7/dist-packages (from tensorflow==2.6.0->tf-bodypix[all]) (1.1.0)\n",
            "Requirement already satisfied: six~=1.15.0 in /usr/local/lib/python3.7/dist-packages (from tensorflow==2.6.0->tf-bodypix[all]) (1.15.0)\n",
            "Requirement already satisfied: opt-einsum~=3.3.0 in /usr/local/lib/python3.7/dist-packages (from tensorflow==2.6.0->tf-bodypix[all]) (3.3.0)\n",
            "Requirement already satisfied: h5py~=3.1.0 in /usr/local/lib/python3.7/dist-packages (from tensorflow==2.6.0->tf-bodypix[all]) (3.1.0)\n",
            "Requirement already satisfied: flatbuffers~=1.12.0 in /usr/local/lib/python3.7/dist-packages (from tensorflow==2.6.0->tf-bodypix[all]) (1.12)\n",
            "Requirement already satisfied: keras~=2.6 in /usr/local/lib/python3.7/dist-packages (from tensorflow==2.6.0->tf-bodypix[all]) (2.6.0)\n",
            "Collecting tensorflowjs>=1.5.2\n",
            "  Downloading tensorflowjs-3.11.0-py3-none-any.whl (64 kB)\n",
            "\u001b[K     |████████████████████████████████| 64 kB 3.0 MB/s \n",
            "\u001b[?25hRequirement already satisfied: cached-property in /usr/local/lib/python3.7/dist-packages (from h5py~=3.1.0->tensorflow==2.6.0->tf-bodypix[all]) (1.5.2)\n",
            "Requirement already satisfied: tensorboard-data-server<0.7.0,>=0.6.0 in /usr/local/lib/python3.7/dist-packages (from tensorboard~=2.6->tensorflow==2.6.0->tf-bodypix[all]) (0.6.1)\n",
            "Requirement already satisfied: google-auth-oauthlib<0.5,>=0.4.1 in /usr/local/lib/python3.7/dist-packages (from tensorboard~=2.6->tensorflow==2.6.0->tf-bodypix[all]) (0.4.6)\n",
            "Requirement already satisfied: requests<3,>=2.21.0 in /usr/local/lib/python3.7/dist-packages (from tensorboard~=2.6->tensorflow==2.6.0->tf-bodypix[all]) (2.23.0)\n",
            "Requirement already satisfied: werkzeug>=0.11.15 in /usr/local/lib/python3.7/dist-packages (from tensorboard~=2.6->tensorflow==2.6.0->tf-bodypix[all]) (1.0.1)\n",
            "Requirement already satisfied: tensorboard-plugin-wit>=1.6.0 in /usr/local/lib/python3.7/dist-packages (from tensorboard~=2.6->tensorflow==2.6.0->tf-bodypix[all]) (1.8.0)\n",
            "Requirement already satisfied: markdown>=2.6.8 in /usr/local/lib/python3.7/dist-packages (from tensorboard~=2.6->tensorflow==2.6.0->tf-bodypix[all]) (3.3.4)\n",
            "Requirement already satisfied: setuptools>=41.0.0 in /usr/local/lib/python3.7/dist-packages (from tensorboard~=2.6->tensorflow==2.6.0->tf-bodypix[all]) (57.4.0)\n",
            "Requirement already satisfied: google-auth<2,>=1.6.3 in /usr/local/lib/python3.7/dist-packages (from tensorboard~=2.6->tensorflow==2.6.0->tf-bodypix[all]) (1.35.0)\n",
            "Requirement already satisfied: cachetools<5.0,>=2.0.0 in /usr/local/lib/python3.7/dist-packages (from google-auth<2,>=1.6.3->tensorboard~=2.6->tensorflow==2.6.0->tf-bodypix[all]) (4.2.4)\n",
            "Requirement already satisfied: rsa<5,>=3.1.4 in /usr/local/lib/python3.7/dist-packages (from google-auth<2,>=1.6.3->tensorboard~=2.6->tensorflow==2.6.0->tf-bodypix[all]) (4.7.2)\n",
            "Requirement already satisfied: pyasn1-modules>=0.2.1 in /usr/local/lib/python3.7/dist-packages (from google-auth<2,>=1.6.3->tensorboard~=2.6->tensorflow==2.6.0->tf-bodypix[all]) (0.2.8)\n",
            "Requirement already satisfied: requests-oauthlib>=0.7.0 in /usr/local/lib/python3.7/dist-packages (from google-auth-oauthlib<0.5,>=0.4.1->tensorboard~=2.6->tensorflow==2.6.0->tf-bodypix[all]) (1.3.0)\n",
            "Requirement already satisfied: importlib-metadata in /usr/local/lib/python3.7/dist-packages (from markdown>=2.6.8->tensorboard~=2.6->tensorflow==2.6.0->tf-bodypix[all]) (4.8.1)\n",
            "Requirement already satisfied: pyasn1<0.5.0,>=0.4.6 in /usr/local/lib/python3.7/dist-packages (from pyasn1-modules>=0.2.1->google-auth<2,>=1.6.3->tensorboard~=2.6->tensorflow==2.6.0->tf-bodypix[all]) (0.4.8)\n",
            "Requirement already satisfied: idna<3,>=2.5 in /usr/local/lib/python3.7/dist-packages (from requests<3,>=2.21.0->tensorboard~=2.6->tensorflow==2.6.0->tf-bodypix[all]) (2.10)\n",
            "Requirement already satisfied: certifi>=2017.4.17 in /usr/local/lib/python3.7/dist-packages (from requests<3,>=2.21.0->tensorboard~=2.6->tensorflow==2.6.0->tf-bodypix[all]) (2021.5.30)\n",
            "Requirement already satisfied: urllib3!=1.25.0,!=1.25.1,<1.26,>=1.21.1 in /usr/local/lib/python3.7/dist-packages (from requests<3,>=2.21.0->tensorboard~=2.6->tensorflow==2.6.0->tf-bodypix[all]) (1.24.3)\n",
            "Requirement already satisfied: chardet<4,>=3.0.2 in /usr/local/lib/python3.7/dist-packages (from requests<3,>=2.21.0->tensorboard~=2.6->tensorflow==2.6.0->tf-bodypix[all]) (3.0.4)\n",
            "Requirement already satisfied: oauthlib>=3.0.0 in /usr/local/lib/python3.7/dist-packages (from requests-oauthlib>=0.7.0->google-auth-oauthlib<0.5,>=0.4.1->tensorboard~=2.6->tensorflow==2.6.0->tf-bodypix[all]) (3.1.1)\n",
            "Requirement already satisfied: tensorflow-hub<0.13,>=0.7.0 in /usr/local/lib/python3.7/dist-packages (from tensorflowjs>=1.5.2->tfjs-graph-converter==1.4.2->tf-bodypix[all]) (0.12.0)\n",
            "Requirement already satisfied: zipp>=0.5 in /usr/local/lib/python3.7/dist-packages (from importlib-metadata->markdown>=2.6.8->tensorboard~=2.6->tensorflow==2.6.0->tf-bodypix[all]) (3.6.0)\n",
            "Building wheels for collected packages: pyfakewebcam\n",
            "  Building wheel for pyfakewebcam (setup.py) ... \u001b[?25l\u001b[?25hdone\n",
            "  Created wheel for pyfakewebcam: filename=pyfakewebcam-0.1.0-py3-none-any.whl size=12669 sha256=c265c099d3dd8c9749b879dc6e0fa301cf660d14c8a3836ceaa153ee704f1c09\n",
            "  Stored in directory: /root/.cache/pip/wheels/33/7e/9f/0fe880831cd6c9f55dc616885118bab53104c580e635fbe415\n",
            "Successfully built pyfakewebcam\n",
            "Installing collected packages: tensorflowjs, tfjs-graph-converter, tf-bodypix, pyfakewebcam, Pillow, opencv-python\n",
            "  Attempting uninstall: Pillow\n",
            "    Found existing installation: Pillow 7.1.2\n",
            "    Uninstalling Pillow-7.1.2:\n",
            "      Successfully uninstalled Pillow-7.1.2\n",
            "  Attempting uninstall: opencv-python\n",
            "    Found existing installation: opencv-python 4.1.2.30\n",
            "    Uninstalling opencv-python-4.1.2.30:\n",
            "      Successfully uninstalled opencv-python-4.1.2.30\n",
            "\u001b[31mERROR: pip's dependency resolver does not currently take into account all the packages that are installed. This behaviour is the source of the following dependency conflicts.\n",
            "albumentations 0.1.12 requires imgaug<0.2.7,>=0.2.5, but you have imgaug 0.2.9 which is incompatible.\u001b[0m\n",
            "Successfully installed Pillow-8.3.2 opencv-python-4.5.3.56 pyfakewebcam-0.1.0 tensorflowjs-3.11.0 tf-bodypix-0.3.7 tfjs-graph-converter-1.4.2\n"
          ]
        },
        {
          "output_type": "display_data",
          "data": {
            "application/vnd.colab-display-data+json": {
              "pip_warning": {
                "packages": [
                  "PIL"
                ]
              }
            }
          },
          "metadata": {}
        }
      ]
    },
    {
      "cell_type": "markdown",
      "metadata": {
        "id": "A7RVIQY1qpK6"
      },
      "source": [
        "Необходимо предварительно загрузить архив `test.zip` в файловую систему (я использую Colab, поэтому пути далее ведут в `/content`)"
      ]
    },
    {
      "cell_type": "code",
      "metadata": {
        "colab": {
          "base_uri": "https://localhost:8080/"
        },
        "id": "LgUGLY-KMA-F",
        "outputId": "f8b805da-1a1a-4e43-c429-61a5147fcb51"
      },
      "source": [
        "!unzip test.zip"
      ],
      "execution_count": null,
      "outputs": [
        {
          "output_type": "stream",
          "name": "stdout",
          "text": [
            "Archive:  test.zip\n",
            "   creating: test/\n",
            "  inflating: test/oz_frame479.jpg    \n",
            "  inflating: test/am3_6_violation_frame059.jpg  \n",
            "  inflating: test/oz7_frame063.jpg   \n",
            "  inflating: test/am3_9_frame001.jpg  \n",
            "  inflating: test/oz7_frame512.jpg   \n",
            "  inflating: test/oz_frame042.jpg    \n",
            "  inflating: test/oz_violation_frame542.jpg  \n",
            "  inflating: test/oz_frame254.jpg    \n",
            "  inflating: test/oz_frame532.jpg    \n",
            "  inflating: test/am3_6_frame042.jpg  \n",
            "  inflating: test/am3_1_frame043.jpg  \n",
            "  inflating: test/am3_5_frame117.jpg  \n",
            "  inflating: test/oz7_frame465.jpg   \n",
            "  inflating: test/am3_4_frame060.jpg  \n",
            "  inflating: test/oz_frame127.jpg    \n",
            "  inflating: test/oz7_frame064.jpg   \n",
            "  inflating: test/am3_6_frame085.jpg  \n",
            "  inflating: test/am3_6_frame052.jpg  \n",
            "  inflating: test/oz7_frame514.jpg   \n",
            "  inflating: test/am3_5_frame072.jpg  \n",
            "  inflating: test/oz_frame481.jpg    \n",
            "  inflating: test/am3_5_frame066.jpg  \n",
            "  inflating: test/oz7_violation_frame489.jpg  \n",
            "  inflating: test/oz_frame536.jpg    \n",
            "  inflating: test/oz_violation_frame544.jpg  \n",
            "  inflating: test/am3_7_frame137.jpg  \n",
            "  inflating: test/oz_frame124.jpg    \n",
            "  inflating: test/am3_5_violation_frame111.jpg  \n",
            "  inflating: test/oz_frame482.jpg    \n",
            "  inflating: test/am3_5_frame065.jpg  \n",
            "  inflating: test/oz_frame455.jpg    \n",
            "  inflating: test/oz7_violation_frame501.jpg  \n",
            "  inflating: test/oz_violation_frame522.jpg  \n",
            "  inflating: test/am3_7_frame019.jpg  \n",
            "  inflating: test/am3_7_frame151.jpg  \n",
            "  inflating: test/am3_7_frame145.jpg  \n",
            "  inflating: test/oz7_violation_frame406.jpg  \n",
            "  inflating: test/oz7_frame558.jpg   \n",
            "  inflating: test/am3_5_frame017.jpg  \n",
            "  inflating: test/am3_7_frame144.jpg  \n",
            "  inflating: test/am3_7_frame150.jpg  \n",
            "  inflating: test/am3_7_frame030.jpg  \n",
            "  inflating: test/am3_7_frame026.jpg  \n",
            "  inflating: test/oz_frame551.jpg    \n",
            "  inflating: test/oz7_violation_frame565.jpg  \n",
            "  inflating: test/am3_7_frame146.jpg  \n",
            "  inflating: test/am3_5_frame015.jpg  \n",
            "  inflating: test/oz_frame141.jpg    \n",
            "  inflating: test/am3_9_frame060.jpg  \n",
            "  inflating: test/oz_frame140.jpg    \n",
            "  inflating: test/oz_frame430.jpg    \n",
            "  inflating: test/am3_7_frame147.jpg  \n",
            "  inflating: test/oz_frame418.jpg    \n",
            "  inflating: test/oz_frame550.jpg    \n",
            "  inflating: test/oz_frame540.jpg    \n",
            "  inflating: test/oz_frame583.jpg    \n",
            "  inflating: test/am3_1_frame030.jpg  \n",
            "  inflating: test/am3_6_frame024.jpg  \n",
            "  inflating: test/oz_violation_frame451.jpg  \n",
            "  inflating: test/oz_frame186.jpg    \n",
            "  inflating: test/oz_frame151.jpg    \n",
            "  inflating: test/am3_6_frame019.jpg  \n",
            "  inflating: test/am3_1_frame025.jpg  \n",
            "  inflating: test/oz_frame421.jpg    \n",
            "  inflating: test/oz_frame541.jpg    \n",
            "  inflating: test/oz7_frame401.jpg   \n",
            "  inflating: test/oz_violation_frame453.jpg  \n",
            "  inflating: test/am3_9_frame072.jpg  \n",
            "  inflating: test/oz_frame436.jpg    \n",
            "  inflating: test/oz7_frame400.jpg   \n",
            "  inflating: test/am3_7_violation_frame139.jpg  \n",
            "  inflating: test/oz7_frame380.jpg   \n",
            "  inflating: test/oz_frame201.jpg    \n",
            "  inflating: test/oz7_violation_frame433.jpg  \n",
            "  inflating: test/am3_6_frame017.jpg  \n",
            "  inflating: test/am3_5_frame036.jpg  \n",
            "  inflating: test/am3_3_frame031.jpg  \n",
            "  inflating: test/am3_3_frame019.jpg  \n",
            "  inflating: test/oz_violation_frame099.jpg  \n",
            "  inflating: test/oz7_frame381.jpg   \n",
            "  inflating: test/oz_frame002.jpg    \n",
            "  inflating: test/oz_frame564.jpg    \n",
            "  inflating: test/oz7_frame022.jpg   \n",
            "  inflating: test/oz_frame613.jpg    \n",
            "  inflating: test/oz7_frame369.jpg   \n",
            "  inflating: test/am3_3_frame032.jpg  \n",
            "  inflating: test/am3_7_frame006.jpg  \n",
            "  inflating: test/oz_frame559.jpg    \n",
            "  inflating: test/oz7_frame382.jpg   \n",
            "  inflating: test/am3_9_frame121.jpg  \n",
            "  inflating: test/am3_7_frame016.jpg  \n",
            "  inflating: test/oz_frame549.jpg    \n",
            "  inflating: test/am3_1_frame011.jpg  \n",
            "  inflating: test/oz7_frame557.jpg   \n",
            "  inflating: test/am3_5_frame019.jpg  \n",
            "  inflating: test/oz_violation_frame101.jpg  \n",
            "  inflating: test/oz_frame617.jpg    \n",
            "  inflating: test/oz7_frame027.jpg   \n",
            "  inflating: test/oz7_frame032.jpg   \n",
            "  inflating: test/oz_violation_frame100.jpg  \n",
            "  inflating: test/oz7_frame556.jpg   \n",
            "  inflating: test/am3_5_frame030.jpg  \n",
            "  inflating: test/oz_frame574.jpg    \n",
            "  inflating: test/oz7_frame385.jpg   \n",
            "  inflating: test/oz7_frame434.jpg   \n",
            "  inflating: test/oz_frame199.jpg    \n",
            "  inflating: test/am3_9_frame052.jpg  \n",
            "  inflating: test/oz7_frame030.jpg   \n",
            "  inflating: test/oz7_frame019.jpg   \n",
            "  inflating: test/am3_7_frame067.jpg  \n",
            "  inflating: test/am3_9_frame021.jpg  \n",
            "  inflating: test/am3_6_frame061.jpg  \n",
            "  inflating: test/oz7_frame080.jpg   \n",
            "  inflating: test/am3_6_frame075.jpg  \n",
            "  inflating: test/am3_5_frame041.jpg  \n",
            "  inflating: test/oz7_frame447.jpg   \n",
            "  inflating: test/oz7_frame484.jpg   \n",
            "  inflating: test/oz_frame539.jpg    \n",
            "  inflating: test/oz7_violation_frame055.jpg  \n",
            "  inflating: test/oz_frame063.jpg    \n",
            "  inflating: test/am3_7_violation_frame140.jpg  \n",
            "  inflating: test/oz7_frame531.jpg   \n",
            "  inflating: test/am3_9_frame023.jpg  \n",
            "  inflating: test/oz7_frame041.jpg   \n",
            "  inflating: test/am3_6_frame088.jpg  \n",
            "  inflating: test/oz7_frame068.jpg   \n",
            "  inflating: test/oz_frame102.jpg    \n",
            "  inflating: test/oz_frame472.jpg    \n",
            "  inflating: test/am3_5_frame122.jpg  \n",
            "  inflating: test/oz_violation_frame006.jpg  \n",
            "  inflating: test/oz_frame506.jpg    \n",
            "  inflating: test/oz_frame076.jpg    \n",
            "  inflating: test/oz_frame072.jpg    \n",
            "  inflating: test/am3_7_frame049.jpg  \n",
            "  inflating: test/oz7_frame497.jpg   \n",
            "  inflating: test/oz7_frame078.jpg   \n",
            "  inflating: test/am3_9_frame027.jpg  \n",
            "  inflating: test/oz7_frame092.jpg   \n",
            "  inflating: test/oz7_frame469.jpg   \n",
            "  inflating: test/am3_7_frame048.jpg  \n",
            "  inflating: test/oz7_frame494.jpg   \n",
            "  inflating: test/am3_5_frame045.jpg  \n",
            "  inflating: test/oz7_frame053.jpg   \n",
            "  inflating: test/am3_9_frame030.jpg  \n",
            "  inflating: test/am3_6_frame070.jpg  \n",
            "  inflating: test/oz_frame110.jpg    \n",
            "  inflating: test/oz_frame528.jpg    \n",
            "  inflating: test/oz7_frame495.jpg   \n",
            "  inflating: test/oz_frame514.jpg    \n",
            "  inflating: test/oz_frame070.jpg    \n"
          ]
        }
      ]
    },
    {
      "cell_type": "code",
      "metadata": {
        "id": "BFXwtdSJMxZX"
      },
      "source": [
        "!mkdir output"
      ],
      "execution_count": null,
      "outputs": []
    },
    {
      "cell_type": "code",
      "metadata": {
        "colab": {
          "base_uri": "https://localhost:8080/"
        },
        "id": "vR1DEqDkLLxx",
        "outputId": "0150f437-0a4b-472a-eedb-f5187e59dd2c"
      },
      "source": [
        "!python -m tf_bodypix \\\n",
        "    draw-mask \\\n",
        "    --source \"/content/am3_9_frame121.jpg\" \\\n",
        "    --output /content/output.png \\\n",
        "    --mask-alpha=0.5 \\\n",
        "    --colored \\\n",
        "    --threshold=0.5"
      ],
      "execution_count": null,
      "outputs": [
        {
          "output_type": "stream",
          "name": "stdout",
          "text": [
            "INFO:tf_bodypix.cli:loading model: '/root/.keras/tf-bodypix/8ba301b16e59fd7bda330880a9d70e58-https-storage-googleapis-com-tfjs-models-savedmodel-bodypix-mobilenet-float-050-model-stride16' (downloaded from 'https://storage.googleapis.com/tfjs-models/savedmodel/bodypix/mobilenet/float/050/model-stride16.json')\n",
            "INFO:tf_bodypix.sink:writing image to: '/content/output.png'\n"
          ]
        }
      ]
    },
    {
      "cell_type": "code",
      "metadata": {
        "id": "YUga0FwyM0TJ"
      },
      "source": [
        ""
      ],
      "execution_count": null,
      "outputs": []
    }
  ]
}